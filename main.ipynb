{
 "cells": [
  {
   "cell_type": "markdown",
   "id": "ea545af3-5bb0-4824-aae1-3959f6d46aa1",
   "metadata": {},
   "source": [
    "<h1 style='color:red; text-align:center;'>Vendor Network Optimization for City-wide Product Delivery</h1>"
   ]
  },
  {
   "cell_type": "markdown",
   "id": "cc868d30-a4bf-4c48-97eb-e866822ff377",
   "metadata": {},
   "source": [
    "<h2>Introduction</h2>\n",
    "<p>\n",
    "This project aims to enhance the \n",
    "    <span style='font-weight:bold;'>\n",
    "        efficiency of product delivery \n",
    "    </span>\n",
    "    across a city by optimizing the \n",
    "    <span style='font-weight: bold;'>\n",
    "    vendor network.\n",
    "    </span>\n",
    "        \n",
    "    \n",
    "</br>\n",
    "    Our primary focus is to \n",
    "    <span style='color:red;'>\n",
    "        maximize\n",
    "    </span> \n",
    "    <span style='font-weight: bold;'>\n",
    "        city-wide coverage\n",
    "    </span>\n",
    "    by strategically selecting vendors who offer the \n",
    "    <span style='font-weight:bold;'>\n",
    "        best combination of \n",
    "        <span style='color:red;'>\n",
    "            high performance\n",
    "        </span>and \n",
    "        <span style='color:red;'>\n",
    "            customer satisfaction\n",
    "        </span>\n",
    "    </span>.\n",
    "    \n",
    "</p>\n",
    "\n",
    "<ul>\n",
    "    <li>\n",
    "        <span style='font-weight: bold;'>\n",
    "            Vendor Network Optimization\n",
    "        </span>\n",
    "        <p>\n",
    "            The objective is to build a network of vendors that maximizes customer coverage. Coverage is defined as the proportion of customer sessions within a 2 km radius of any vendor. \n",
    "            The key goals of this part include:\n",
    "            <ul>\n",
    "                <li>Maximizing the number of customer sessions covered by vendors.</li>\n",
    "                <li>Prioritizing vendors with higher customer satisfaction ratings, based on performance scores.</li>\n",
    "                <li>Ensuring that certain mandatory vendors are included while excluding blacklisted vendors.</li>\n",
    "            </ul>\n",
    "        </p>\n",
    "    </li>\n",
    "</ul>\n",
    "</br>\n",
    "<p>\n",
    "    <span style='font-weight: bold; color:red;'>\n",
    "        Note:\n",
    "    </span>\n",
    "    Based on company rules, I can't use actual data, so I create sample datas and run code for them.\n",
    "</p>"
   ]
  },
  {
   "cell_type": "code",
   "execution_count": 44,
   "id": "bfd267f7-2e61-46c1-a6a3-cead336d297f",
   "metadata": {},
   "outputs": [
    {
     "name": "stdout",
     "output_type": "stream",
     "text": [
      "Requirement already satisfied: pandas in /opt/anaconda3/lib/python3.12/site-packages (2.2.2)\n",
      "Requirement already satisfied: numpy in /opt/anaconda3/lib/python3.12/site-packages (1.26.4)\n",
      "Requirement already satisfied: python-dateutil>=2.8.2 in /opt/anaconda3/lib/python3.12/site-packages (from pandas) (2.9.0.post0)\n",
      "Requirement already satisfied: pytz>=2020.1 in /opt/anaconda3/lib/python3.12/site-packages (from pandas) (2024.1)\n",
      "Requirement already satisfied: tzdata>=2022.7 in /opt/anaconda3/lib/python3.12/site-packages (from pandas) (2023.3)\n",
      "Requirement already satisfied: six>=1.5 in /opt/anaconda3/lib/python3.12/site-packages (from python-dateutil>=2.8.2->pandas) (1.16.0)\n"
     ]
    }
   ],
   "source": [
    "!pip install pandas numpy"
   ]
  },
  {
   "cell_type": "code",
   "execution_count": 38,
   "id": "bc542aca-2074-425b-ac61-7c6e3aada0e2",
   "metadata": {},
   "outputs": [],
   "source": [
    "# read and analize data\n",
    "import numpy as np\n",
    "import pandas as pd"
   ]
  },
  {
   "cell_type": "code",
   "execution_count": 42,
   "id": "2ef88cdb-8d5e-47dc-93c7-8721e8d22271",
   "metadata": {},
   "outputs": [],
   "source": [
    "# read data\n",
    "vendors = pd.read_csv('DataSets/sample_vendors.csv')\n",
    "sessions = pd.read_csv('DataSets/sample_sessions.csv')"
   ]
  },
  {
   "cell_type": "code",
   "execution_count": null,
   "id": "e4c7db5c-9344-48bf-92b6-d10cac3e0838",
   "metadata": {},
   "outputs": [],
   "source": []
  }
 ],
 "metadata": {
  "kernelspec": {
   "display_name": "Python 3 (ipykernel)",
   "language": "python",
   "name": "python3"
  },
  "language_info": {
   "codemirror_mode": {
    "name": "ipython",
    "version": 3
   },
   "file_extension": ".py",
   "mimetype": "text/x-python",
   "name": "python",
   "nbconvert_exporter": "python",
   "pygments_lexer": "ipython3",
   "version": "3.12.4"
  }
 },
 "nbformat": 4,
 "nbformat_minor": 5
}
