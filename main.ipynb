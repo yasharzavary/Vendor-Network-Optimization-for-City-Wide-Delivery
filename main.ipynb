{
 "cells": [
  {
   "cell_type": "markdown",
   "id": "ea545af3-5bb0-4824-aae1-3959f6d46aa1",
   "metadata": {},
   "source": [
    "<h1 style='color:red; text-align:center;'>Vendor Network Optimization for City-wide Product Delivery</h1>"
   ]
  },
  {
   "cell_type": "markdown",
   "id": "cc868d30-a4bf-4c48-97eb-e866822ff377",
   "metadata": {},
   "source": [
    "<h2>Introduction</h2>\n",
    "<p>\n",
    "This project aims to enhance the \n",
    "    <span style='font-weight:bold;'>\n",
    "        efficiency of product delivery \n",
    "    </span>\n",
    "    across a city by optimizing the \n",
    "    <span style='font-weight: bold;'>\n",
    "    vendor network.\n",
    "    </span>\n",
    "        \n",
    "    \n",
    "</br>\n",
    "    Our primary focus is to \n",
    "    <span style='color:red;'>\n",
    "        maximize\n",
    "    </span> \n",
    "    <span style='font-weight: bold;'>\n",
    "        city-wide coverage\n",
    "    </span>\n",
    "    by strategically selecting vendors who offer the \n",
    "    <span style='font-weight:bold;'>\n",
    "        best combination of \n",
    "        <span style='color:red;'>\n",
    "            high performance\n",
    "        </span>and \n",
    "        <span style='color:red;'>\n",
    "            customer satisfaction\n",
    "        </span>\n",
    "    </span>.\n",
    "    \n",
    "</p>\n",
    "<h3>The project is divided into two distinct parts:</h3>\n",
    "<ul>\n",
    "    <li>\n",
    "        <span style='font-weight: bold;'>\n",
    "            Vendor Network Optimization\n",
    "        </span>\n",
    "        <p>\n",
    "            The objective is to build a network of vendors that maximizes customer coverage. Coverage is defined as the proportion of customer sessions within a 2 km radius of any vendor. \n",
    "            The key goals of this part include:\n",
    "            <ul>\n",
    "                <li>Maximizing the number of customer sessions covered by vendors.</li>\n",
    "                <li>Prioritizing vendors with higher customer satisfaction ratings, based on performance scores.</li>\n",
    "                <li>Ensuring that certain mandatory vendors are included while excluding blacklisted vendors.</li>\n",
    "            </ul>\n",
    "        </p>\n",
    "    </li>\n",
    "</ul>"
   ]
  },
  {
   "cell_type": "code",
   "execution_count": null,
   "id": "8c09893f-2d92-4718-9490-ec71cde995e5",
   "metadata": {},
   "outputs": [],
   "source": []
  }
 ],
 "metadata": {
  "kernelspec": {
   "display_name": "Python 3 (ipykernel)",
   "language": "python",
   "name": "python3"
  },
  "language_info": {
   "codemirror_mode": {
    "name": "ipython",
    "version": 3
   },
   "file_extension": ".py",
   "mimetype": "text/x-python",
   "name": "python",
   "nbconvert_exporter": "python",
   "pygments_lexer": "ipython3",
   "version": "3.12.4"
  }
 },
 "nbformat": 4,
 "nbformat_minor": 5
}
